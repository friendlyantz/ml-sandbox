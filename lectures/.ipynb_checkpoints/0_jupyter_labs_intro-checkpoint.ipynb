{
 "cells": [
  {
   "cell_type": "markdown",
   "id": "bf40ce60-0941-4551-b1dc-7af93bd141d7",
   "metadata": {},
   "source": [
    "# Jupyter LABs shortcuts\n",
    "\n",
    "- [ ] a - add cell above\n",
    "- [ ] b - add cell below\n"
   ]
  },
  {
   "cell_type": "markdown",
   "id": "e7029d9f-3e8f-4fd1-9a88-f1fc3fa89f7a",
   "metadata": {},
   "source": [
    "## copy-paste \n",
    "\n",
    "- [ ] d, d - delete\n",
    "- [ ] x\n",
    "- [ ] c\n",
    "- [ ] v"
   ]
  },
  {
   "cell_type": "markdown",
   "id": "08a0880d-46b6-4d6a-b181-f88660d6dc4c",
   "metadata": {},
   "source": [
    "## undo \n",
    "\n",
    "- [ ] z - undo\n",
    "- [ ] Shift + z - redo"
   ]
  },
  {
   "cell_type": "markdown",
   "id": "9cc5ded3-4f55-480b-9664-48372189c1f5",
   "metadata": {},
   "source": [
    "## markdown preview \n",
    "\n",
    "- [x] shift + enterm\n",
    "---\n",
    "markdown examples:\n",
    "\n",
    "$ x^2 $\n",
    "\n",
    "www.jupyter.org\n",
    "\n",
    "[same link custom test](www.jupyter.org)\n",
    "> blockquote\n",
    "---"
   ]
  },
  {
   "cell_type": "markdown",
   "id": "adf00ffb-b233-4875-937d-0dc1f47b1c8e",
   "metadata": {},
   "source": [
    "# change cell format: code VS markdown \n",
    "- [ ] m - markdown\n",
    "- [ ] y - code\n",
    "---"
   ]
  },
  {
   "cell_type": "code",
   "execution_count": 2,
   "id": "9ddd123b-4b9f-43f0-b445-501cad48be7c",
   "metadata": {},
   "outputs": [
    {
     "name": "stdout",
     "output_type": "stream",
     "text": [
      "1\n"
     ]
    }
   ],
   "source": [
    "x = 1\n",
    "print(x)"
   ]
  },
  {
   "cell_type": "code",
   "execution_count": 3,
   "id": "884a7c83-ac0e-44e8-b086-139bff0e83c9",
   "metadata": {},
   "outputs": [
    {
     "name": "stdout",
     "output_type": "stream",
     "text": [
      "6\n",
      "1\n"
     ]
    }
   ],
   "source": [
    "y = 6\n",
    "print(y)\n",
    "print(x)"
   ]
  },
  {
   "cell_type": "code",
   "execution_count": 4,
   "id": "5c4b7777-6e99-4a2b-9fd0-326a8c608e72",
   "metadata": {},
   "outputs": [],
   "source": [
    "x = 10"
   ]
  },
  {
   "cell_type": "code",
   "execution_count": 5,
   "id": "4838cfe4-b1ce-43a5-8655-c9b1d1436068",
   "metadata": {},
   "outputs": [
    {
     "name": "stdout",
     "output_type": "stream",
     "text": [
      "10\n"
     ]
    }
   ],
   "source": [
    "print(x)"
   ]
  },
  {
   "cell_type": "markdown",
   "id": "ec992a35-dc4c-42c1-a7fe-744e6c777882",
   "metadata": {},
   "source": [
    "## restart kernell (calcs above need to be executed line by line again) - also see RUN menu\n",
    "00"
   ]
  }
 ],
 "metadata": {
  "kernelspec": {
   "display_name": "Python 3",
   "language": "python",
   "name": "python3"
  },
  "language_info": {
   "codemirror_mode": {
    "name": "ipython",
    "version": 3
   },
   "file_extension": ".py",
   "mimetype": "text/x-python",
   "name": "python",
   "nbconvert_exporter": "python",
   "pygments_lexer": "ipython3",
   "version": "3.9.1"
  }
 },
 "nbformat": 4,
 "nbformat_minor": 5
}
