{
 "cells": [
  {
   "cell_type": "markdown",
   "id": "e457e54c-a516-46bf-9bb4-9cc934a60318",
   "metadata": {},
   "source": [
    "# semantics and object referencing\n"
   ]
  },
  {
   "cell_type": "code",
   "execution_count": 1,
   "id": "1f97c2cc-f1f1-44cc-86cf-4d4f664a4dd2",
   "metadata": {},
   "outputs": [
    {
     "name": "stdout",
     "output_type": "stream",
     "text": [
      "g = [17, 28, 45]\n"
     ]
    }
   ],
   "source": [
    "f = [14,23,37]\n",
    "def replace (g):\n",
    "    g = [17,28,45]\n",
    "    print(\"g =\",g)\n",
    "    \n",
    "replace(f)"
   ]
  },
  {
   "cell_type": "code",
   "execution_count": 3,
   "id": "3021b87a-95cc-4abe-80d3-63ab1237d063",
   "metadata": {},
   "outputs": [
    {
     "data": {
      "text/plain": [
       "[14, 23, 37]"
      ]
     },
     "execution_count": 3,
     "metadata": {},
     "output_type": "execute_result"
    }
   ],
   "source": [
    "f"
   ]
  },
  {
   "cell_type": "markdown",
   "id": "050a429b-831d-4f83-aa3e-afcc67797af2",
   "metadata": {},
   "source": [
    "![title](img/replacing_arg_value.png)"
   ]
  },
  {
   "cell_type": "markdown",
   "id": "b136b340-29a9-43ec-a787-a598cb5567d9",
   "metadata": {},
   "source": [
    "### Function arguments are transferred using *pass-by-object-reference*\n",
    "### References to objects are copied, not the objects themselves. "
   ]
  }
 ],
 "metadata": {
  "kernelspec": {
   "display_name": "Python 3",
   "language": "python",
   "name": "python3"
  },
  "language_info": {
   "codemirror_mode": {
    "name": "ipython",
    "version": 3
   },
   "file_extension": ".py",
   "mimetype": "text/x-python",
   "name": "python",
   "nbconvert_exporter": "python",
   "pygments_lexer": "ipython3",
   "version": "3.9.1"
  }
 },
 "nbformat": 4,
 "nbformat_minor": 5
}
