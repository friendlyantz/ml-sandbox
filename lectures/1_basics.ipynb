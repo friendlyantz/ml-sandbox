{
 "cells": [
  {
   "cell_type": "markdown",
   "id": "aec71276-b55c-4f92-8bbe-55ecfba3e84d",
   "metadata": {},
   "source": [
    "# Basics"
   ]
  },
  {
   "cell_type": "code",
   "execution_count": 8,
   "id": "c73704ba-9d8a-4de0-8fd1-d8ce10c1ce8a",
   "metadata": {},
   "outputs": [
    {
     "name": "stdout",
     "output_type": "stream",
     "text": [
      "\n",
      "    Info: this func tests and print param a\n",
      "    \n"
     ]
    }
   ],
   "source": [
    "def test(a):\n",
    "    '''\n",
    "    Info: this func tests and print param a\n",
    "    '''\n",
    "    print(a)\n",
    "    \n",
    "\n",
    "print(test.__doc__)"
   ]
  },
  {
   "cell_type": "code",
   "execution_count": 7,
   "id": "a57eb34d-3a26-497a-b505-9797b138a9fd",
   "metadata": {},
   "outputs": [
    {
     "name": "stdout",
     "output_type": "stream",
     "text": [
      "Help on function test in module __main__:\n",
      "\n",
      "test(a)\n",
      "    Info: this func tests and print param a\n",
      "\n"
     ]
    }
   ],
   "source": [
    "help(test)"
   ]
  },
  {
   "cell_type": "markdown",
   "id": "2effe080-276f-478f-860f-8817e36b3b8a",
   "metadata": {},
   "source": [
    "## side effects vs values\n",
    "> *preference is to have functions that return values, and not produce side effects*\n"
   ]
  },
  {
   "cell_type": "markdown",
   "id": "e26e7f89-f99b-4d0a-9e72-9a21d0006943",
   "metadata": {},
   "source": [
    "# kwargs"
   ]
  },
  {
   "cell_type": "code",
   "execution_count": 9,
   "id": "493feb24-3056-40c9-bbdc-f27ea9c2f8b9",
   "metadata": {},
   "outputs": [
    {
     "name": "stdout",
     "output_type": "stream",
     "text": [
      "29\n"
     ]
    }
   ],
   "source": [
    "def super_func(name, *args, i='hi', **kwargs):\n",
    "    total = 0\n",
    "    for items in kwargs.values():\n",
    "        total += items\n",
    "    return sum(args) + total\n",
    "\n",
    "print(super_func(1,2,3,4,5, num1=5, num2=10))"
   ]
  },
  {
   "cell_type": "markdown",
   "id": "9953c45a-ef0a-4f74-a14c-eb24efa0b4c4",
   "metadata": {},
   "source": [
    "# map, filter, zip, reduce (TODO)"
   ]
  },
  {
   "cell_type": "code",
   "execution_count": 15,
   "id": "f359c78c-df36-44da-961a-5f87756ea489",
   "metadata": {},
   "outputs": [
    {
     "data": {
      "text/plain": [
       "<zip at 0x7feca98ab1c0>"
      ]
     },
     "execution_count": 15,
     "metadata": {},
     "output_type": "execute_result"
    }
   ],
   "source": [
    "zip(range(5), range(1,20,2))"
   ]
  },
  {
   "cell_type": "code",
   "execution_count": 17,
   "id": "232a44d6-308f-4395-ae5e-2babe573505e",
   "metadata": {},
   "outputs": [
    {
     "data": {
      "text/plain": [
       "<map at 0x7feca98717f0>"
      ]
     },
     "execution_count": 17,
     "metadata": {},
     "output_type": "execute_result"
    }
   ],
   "source": [
    "map(lambda a: a+1, [1,2,3,4])"
   ]
  }
 ],
 "metadata": {
  "kernelspec": {
   "display_name": "Python 3 (ipykernel)",
   "language": "python",
   "name": "python3"
  },
  "language_info": {
   "codemirror_mode": {
    "name": "ipython",
    "version": 3
   },
   "file_extension": ".py",
   "mimetype": "text/x-python",
   "name": "python",
   "nbconvert_exporter": "python",
   "pygments_lexer": "ipython3",
   "version": "3.10.5"
  }
 },
 "nbformat": 4,
 "nbformat_minor": 5
}
