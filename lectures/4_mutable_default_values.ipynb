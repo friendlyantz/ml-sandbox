{
 "cells": [
  {
   "cell_type": "markdown",
   "id": "647e021b-b5ac-4a6b-9cb5-ea6d13626ba8",
   "metadata": {},
   "source": [
    "# Mutable default values"
   ]
  },
  {
   "cell_type": "code",
   "execution_count": 85,
   "id": "4374193f-bb2d-4dea-ab01-8628635a1f14",
   "metadata": {},
   "outputs": [],
   "source": [
    "def add_spam(menu=[]):\n",
    "    menu.append(\"spam\")\n",
    "    return menu"
   ]
  },
  {
   "cell_type": "code",
   "execution_count": 14,
   "id": "001adf8c-1434-41ac-815d-52c7064578b0",
   "metadata": {},
   "outputs": [
    {
     "data": {
      "text/plain": [
       "['bacon', 'eggs', 'spam']"
      ]
     },
     "execution_count": 14,
     "metadata": {},
     "output_type": "execute_result"
    }
   ],
   "source": [
    "breakfast = ['bacon', 'eggs']\n",
    "add_spam(breakfast)"
   ]
  },
  {
   "cell_type": "code",
   "execution_count": 6,
   "id": "142872ee-bb49-4f56-a983-dfeac7589de8",
   "metadata": {},
   "outputs": [
    {
     "data": {
      "text/plain": [
       "['baked beans', 'spam']"
      ]
     },
     "execution_count": 6,
     "metadata": {},
     "output_type": "execute_result"
    }
   ],
   "source": [
    "lunch = ['baked beans']\n",
    "add_spam(lunch)"
   ]
  },
  {
   "cell_type": "markdown",
   "id": "d393d5ff-e77b-44e8-baa5-8e16805c31ac",
   "metadata": {},
   "source": [
    "### However\n",
    "> run the commands several time (ctrl + Enter)"
   ]
  },
  {
   "cell_type": "code",
   "execution_count": 82,
   "id": "038d51d0-6498-4776-900f-4c1400d00703",
   "metadata": {},
   "outputs": [
    {
     "data": {
      "text/plain": [
       "['spam',\n",
       " 'spam',\n",
       " 'spam',\n",
       " 'spam',\n",
       " 'spam',\n",
       " 'spam',\n",
       " 'spam',\n",
       " 'spam',\n",
       " 'spam',\n",
       " 'spam',\n",
       " 'spam',\n",
       " 'spam',\n",
       " 'spam',\n",
       " 'spam',\n",
       " 'spam',\n",
       " 'spam',\n",
       " 'spam',\n",
       " 'spam']"
      ]
     },
     "execution_count": 82,
     "metadata": {},
     "output_type": "execute_result"
    }
   ],
   "source": [
    "add_spam()"
   ]
  },
  {
   "cell_type": "markdown",
   "id": "df55f74c-f600-4df0-abfc-37ccd9345868",
   "metadata": {},
   "source": [
    "# Always use immutable objects for default values!"
   ]
  },
  {
   "cell_type": "code",
   "execution_count": 43,
   "id": "60f31630-5c67-4036-bba5-2e6507aa4bd4",
   "metadata": {},
   "outputs": [],
   "source": [
    "def add_clean_spam(menu=None):\n",
    "    if menu is None:\n",
    "        menu = []\n",
    "    menu.append(\"spam\")\n",
    "    return menu"
   ]
  },
  {
   "cell_type": "markdown",
   "id": "7ca26574-125d-4331-817a-64db6445225b",
   "metadata": {},
   "source": [
    "### Now\n",
    "\n",
    "> runing the command several times (ctrl + Enter) does not produce double ups again"
   ]
  },
  {
   "cell_type": "code",
   "execution_count": 69,
   "id": "eb4bc144-7645-4925-9f08-0cbd5515bd82",
   "metadata": {},
   "outputs": [
    {
     "data": {
      "text/plain": [
       "['spam']"
      ]
     },
     "execution_count": 69,
     "metadata": {},
     "output_type": "execute_result"
    }
   ],
   "source": [
    "add_clean_spam()"
   ]
  }
 ],
 "metadata": {
  "kernelspec": {
   "display_name": "Python 3",
   "language": "python",
   "name": "python3"
  },
  "language_info": {
   "codemirror_mode": {
    "name": "ipython",
    "version": 3
   },
   "file_extension": ".py",
   "mimetype": "text/x-python",
   "name": "python",
   "nbconvert_exporter": "python",
   "pygments_lexer": "ipython3",
   "version": "3.9.1"
  }
 },
 "nbformat": 4,
 "nbformat_minor": 5
}
