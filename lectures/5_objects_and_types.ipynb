{
 "cells": [
  {
   "cell_type": "markdown",
   "id": "2e5518fb-3ccc-4367-bc98-44b7730c8e69",
   "metadata": {},
   "source": [
    "# Objects and Types"
   ]
  },
  {
   "cell_type": "markdown",
   "id": "2911e5ac-c4b7-4027-a279-5dd1974bd629",
   "metadata": {},
   "source": [
    "## Global variables"
   ]
  },
  {
   "cell_type": "code",
   "execution_count": 26,
   "id": "8934edb3-c691-427c-af1d-1b17cb81eec3",
   "metadata": {},
   "outputs": [],
   "source": [
    "count = 0\n",
    "def show_count():\n",
    "    print(count)"
   ]
  },
  {
   "cell_type": "code",
   "execution_count": 5,
   "id": "1881d924-1554-40e0-8563-cfc69002c2f7",
   "metadata": {},
   "outputs": [],
   "source": [
    "def set_count(c):\n",
    "    count = c"
   ]
  },
  {
   "cell_type": "code",
   "execution_count": 28,
   "id": "2156ef54-ed2f-42c1-8cb0-05a6ce9ea1a2",
   "metadata": {},
   "outputs": [
    {
     "name": "stdout",
     "output_type": "stream",
     "text": [
      "0\n"
     ]
    }
   ],
   "source": [
    "show_count()"
   ]
  },
  {
   "cell_type": "code",
   "execution_count": 34,
   "id": "b7cab8e7-d61d-4096-84a0-46b76c30807a",
   "metadata": {},
   "outputs": [
    {
     "name": "stdout",
     "output_type": "stream",
     "text": [
      "0\n"
     ]
    }
   ],
   "source": [
    "set_count(5)\n",
    "show_count()"
   ]
  },
  {
   "cell_type": "markdown",
   "id": "94befab6-1516-43c7-ab93-b73df620f0bf",
   "metadata": {},
   "source": [
    "### However"
   ]
  },
  {
   "cell_type": "code",
   "execution_count": 21,
   "id": "ca5e37c1-b4c3-4cba-9205-8f50c6041187",
   "metadata": {},
   "outputs": [],
   "source": [
    "new_count = 0\n",
    "def set_global_count(c):\n",
    "    global new_count\n",
    "    new_count = c"
   ]
  },
  {
   "cell_type": "code",
   "execution_count": 35,
   "id": "ba1436fd-e6c9-4e36-b7ec-ac69b7c88ceb",
   "metadata": {},
   "outputs": [
    {
     "name": "stdout",
     "output_type": "stream",
     "text": [
      "0\n"
     ]
    }
   ],
   "source": [
    "set_global_count(6)\n",
    "show_count()"
   ]
  },
  {
   "cell_type": "markdown",
   "id": "01b903a9-ce2c-49bc-af67-6ef45db9b870",
   "metadata": {},
   "source": [
    "## Everything is an object"
   ]
  }
 ],
 "metadata": {
  "kernelspec": {
   "display_name": "Python 3",
   "language": "python",
   "name": "python3"
  },
  "language_info": {
   "codemirror_mode": {
    "name": "ipython",
    "version": 3
   },
   "file_extension": ".py",
   "mimetype": "text/x-python",
   "name": "python",
   "nbconvert_exporter": "python",
   "pygments_lexer": "ipython3",
   "version": "3.9.1"
  }
 },
 "nbformat": 4,
 "nbformat_minor": 5
}
