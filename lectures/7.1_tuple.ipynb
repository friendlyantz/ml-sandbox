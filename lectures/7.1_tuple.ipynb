{
 "cells": [
  {
   "cell_type": "markdown",
   "id": "cac033ef-0b91-4ccd-b71e-c4ab7a010f7f",
   "metadata": {},
   "source": [
    "# Data Types"
   ]
  },
  {
   "cell_type": "markdown",
   "id": "bd18a580-41fb-4568-9cd7-852b1a2ec885",
   "metadata": {},
   "source": [
    "## Tuple"
   ]
  },
  {
   "cell_type": "code",
   "execution_count": 2,
   "id": "eb8bd0e5-29ee-4da5-9df2-4a8e674a510e",
   "metadata": {},
   "outputs": [
    {
     "data": {
      "text/plain": [
       "tuple"
      ]
     },
     "execution_count": 2,
     "metadata": {},
     "output_type": "execute_result"
    }
   ],
   "source": [
    "k = (4353,)\n",
    "type(k)"
   ]
  },
  {
   "cell_type": "markdown",
   "id": "77512959-e7e0-4bdc-92f6-debd18c63c20",
   "metadata": {},
   "source": [
    "### tuple unpacking"
   ]
  },
  {
   "cell_type": "code",
   "execution_count": 23,
   "id": "ebb929e0-61d9-4307-bad0-8f46cf049ecd",
   "metadata": {},
   "outputs": [
    {
     "data": {
      "text/plain": [
       "(4, 4345)"
      ]
     },
     "execution_count": 23,
     "metadata": {},
     "output_type": "execute_result"
    }
   ],
   "source": [
    "def minmax(items):\n",
    "    return min(items), max(items)\n",
    "minmax([43,345,345,4,73,2234,4345,422])"
   ]
  },
  {
   "cell_type": "code",
   "execution_count": 24,
   "id": "74c40b37-ad9b-4831-80c7-900466c6cd62",
   "metadata": {},
   "outputs": [],
   "source": [
    "lo, hi = minmax([4334,399945,345,4,73,2234,4345,422])"
   ]
  },
  {
   "cell_type": "code",
   "execution_count": 25,
   "id": "941f4bc9-0e48-42e9-a7a2-b955f1d50329",
   "metadata": {},
   "outputs": [
    {
     "data": {
      "text/plain": [
       "4"
      ]
     },
     "execution_count": 25,
     "metadata": {},
     "output_type": "execute_result"
    }
   ],
   "source": [
    "lo"
   ]
  },
  {
   "cell_type": "code",
   "execution_count": 22,
   "id": "cadb0b8a-4755-4e00-bda7-aa676fea5e72",
   "metadata": {},
   "outputs": [
    {
     "data": {
      "text/plain": [
       "399945"
      ]
     },
     "execution_count": 22,
     "metadata": {},
     "output_type": "execute_result"
    }
   ],
   "source": [
    "hi"
   ]
  },
  {
   "cell_type": "markdown",
   "id": "19b1cb78-9c1f-461c-80da-256eec888cc4",
   "metadata": {},
   "source": [
    "### swapping"
   ]
  },
  {
   "cell_type": "code",
   "execution_count": 28,
   "id": "4ae5b48a-fc05-4595-8c3a-3f4466dc4958",
   "metadata": {},
   "outputs": [],
   "source": [
    "a = 'jelly'\n",
    "b = 'bean'\n",
    "a, b = b, a"
   ]
  },
  {
   "cell_type": "code",
   "execution_count": 29,
   "id": "c42f8a62-8b40-41e0-96d4-1efe527db0cb",
   "metadata": {},
   "outputs": [
    {
     "data": {
      "text/plain": [
       "'bean'"
      ]
     },
     "execution_count": 29,
     "metadata": {},
     "output_type": "execute_result"
    }
   ],
   "source": [
    "a"
   ]
  },
  {
   "cell_type": "code",
   "execution_count": 30,
   "id": "a4d5fa40-5d3d-4228-afd6-1da604c98f82",
   "metadata": {},
   "outputs": [
    {
     "data": {
      "text/plain": [
       "'jelly'"
      ]
     },
     "execution_count": 30,
     "metadata": {},
     "output_type": "execute_result"
    }
   ],
   "source": [
    "b"
   ]
  },
  {
   "cell_type": "code",
   "execution_count": null,
   "id": "4c421033-4ddd-4a88-b18d-f33930180c6c",
   "metadata": {},
   "outputs": [],
   "source": []
  }
 ],
 "metadata": {
  "kernelspec": {
   "display_name": "Python 3",
   "language": "python",
   "name": "python3"
  },
  "language_info": {
   "codemirror_mode": {
    "name": "ipython",
    "version": 3
   },
   "file_extension": ".py",
   "mimetype": "text/x-python",
   "name": "python",
   "nbconvert_exporter": "python",
   "pygments_lexer": "ipython3",
   "version": "3.9.1"
  }
 },
 "nbformat": 4,
 "nbformat_minor": 5
}
