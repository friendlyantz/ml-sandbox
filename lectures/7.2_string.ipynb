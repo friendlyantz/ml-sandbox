{
 "cells": [
  {
   "cell_type": "markdown",
   "id": "caad1880-1cbd-4f12-814c-eed822be615b",
   "metadata": {},
   "source": [
    "# Join"
   ]
  },
  {
   "cell_type": "markdown",
   "id": "e2fd3f8c-4805-4b0d-aa74-b8bebfffa80e",
   "metadata": {},
   "source": [
    "## Use str.join() to Join Strings instead of +\n",
    "1. Concatenation with + results in temporaries \n",
    "2. str.join() inserts a separator between a collection of strings \n",
    "3. Call join() on the separator string"
   ]
  },
  {
   "cell_type": "code",
   "execution_count": 4,
   "id": "6377aa51-0148-4184-bd0b-6a0a3bb8d58c",
   "metadata": {},
   "outputs": [
    {
     "data": {
      "text/plain": [
       "'jupyterlabs'"
      ]
     },
     "execution_count": 4,
     "metadata": {},
     "output_type": "execute_result"
    }
   ],
   "source": [
    "''.join(['jupyter','labs'])"
   ]
  },
  {
   "cell_type": "markdown",
   "id": "447bab00-7893-4bdb-b7f1-cfe5f53173d5",
   "metadata": {},
   "source": [
    "# Partition"
   ]
  },
  {
   "cell_type": "code",
   "execution_count": null,
   "id": "495fd0b1-0c02-4519-8286-d21c44aa6c45",
   "metadata": {},
   "outputs": [],
   "source": [
    "departure, _, arrival = \"London:Edinburgh\".partition(':')"
   ]
  },
  {
   "cell_type": "markdown",
   "id": "9506adda-6db7-423a-88fb-d740cb5e2637",
   "metadata": {},
   "source": [
    "> use _ for unassigned value"
   ]
  },
  {
   "cell_type": "code",
   "execution_count": 13,
   "id": "fc1048fd-8f43-414c-ab86-ef39975a0a84",
   "metadata": {},
   "outputs": [
    {
     "data": {
      "text/plain": [
       "'London'"
      ]
     },
     "execution_count": 13,
     "metadata": {},
     "output_type": "execute_result"
    }
   ],
   "source": [
    "departure"
   ]
  },
  {
   "cell_type": "code",
   "execution_count": 9,
   "id": "cb4c34dc-5fd0-49ad-926b-da563578020f",
   "metadata": {},
   "outputs": [
    {
     "data": {
      "text/plain": [
       "'Edinburgh'"
      ]
     },
     "execution_count": 9,
     "metadata": {},
     "output_type": "execute_result"
    }
   ],
   "source": [
    "arrival"
   ]
  },
  {
   "cell_type": "markdown",
   "id": "e8760aa7-2b75-477b-9b6e-92f83b3b6e94",
   "metadata": {},
   "source": [
    "# Formatting - preference to use `f-string`"
   ]
  },
  {
   "cell_type": "code",
   "execution_count": 16,
   "id": "b3ce41f1-c4c8-4b8c-bf92-b0ff5ab7c694",
   "metadata": {},
   "outputs": [
    {
     "data": {
      "text/plain": [
       "'The Value is 80'"
      ]
     },
     "execution_count": 16,
     "metadata": {},
     "output_type": "execute_result"
    }
   ],
   "source": [
    "value = 4 * 20\n",
    "f'The Value is {value}'"
   ]
  },
  {
   "cell_type": "code",
   "execution_count": 18,
   "id": "1b03298d-7dc8-4b2c-a752-cd6c71a73994",
   "metadata": {},
   "outputs": [
    {
     "data": {
      "text/plain": [
       "'current time is 2021-08-06T22:13:50.113207'"
      ]
     },
     "execution_count": 18,
     "metadata": {},
     "output_type": "execute_result"
    }
   ],
   "source": [
    "import datetime\n",
    "f'current time is {datetime.datetime.now().isoformat()}'"
   ]
  },
  {
   "cell_type": "code",
   "execution_count": 23,
   "id": "d4dd04f0-ea2a-481a-8f18-c74db44031fa",
   "metadata": {},
   "outputs": [
    {
     "data": {
      "text/plain": [
       "'Math constant: pi=3.14,e=2.718281828459045'"
      ]
     },
     "execution_count": 23,
     "metadata": {},
     "output_type": "execute_result"
    }
   ],
   "source": [
    "import math\n",
    "f'Math constant: pi={math.pi:.2f},e={math.e}'"
   ]
  }
 ],
 "metadata": {
  "kernelspec": {
   "display_name": "Python 3",
   "language": "python",
   "name": "python3"
  },
  "language_info": {
   "codemirror_mode": {
    "name": "ipython",
    "version": 3
   },
   "file_extension": ".py",
   "mimetype": "text/x-python",
   "name": "python",
   "nbconvert_exporter": "python",
   "pygments_lexer": "ipython3",
   "version": "3.9.1"
  }
 },
 "nbformat": 4,
 "nbformat_minor": 5
}
