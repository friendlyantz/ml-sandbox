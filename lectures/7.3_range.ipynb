{
 "cells": [
  {
   "cell_type": "markdown",
   "id": "059af5dc-6f43-4e2d-b1e1-12e5e526e6d3",
   "metadata": {},
   "source": [
    "# range(*start, stop, *step)"
   ]
  },
  {
   "cell_type": "markdown",
   "id": "6ae0e922-db87-4c1d-aab9-5375a7a4e803",
   "metadata": {},
   "source": [
    "> stop - not inclusive"
   ]
  },
  {
   "cell_type": "code",
   "execution_count": 19,
   "id": "9ae26a9e-36ef-4fc3-8fb1-adef45e12ab2",
   "metadata": {},
   "outputs": [],
   "source": [
    "x = range(10, 35, 5)"
   ]
  },
  {
   "cell_type": "markdown",
   "id": "3026feb1-2945-4135-bc53-a34bdeebece4",
   "metadata": {},
   "source": [
    "> you have to put both *opt values if you use them"
   ]
  },
  {
   "cell_type": "code",
   "execution_count": 20,
   "id": "a73b5407-f7e1-4b49-914e-1b7389346d21",
   "metadata": {},
   "outputs": [
    {
     "name": "stdout",
     "output_type": "stream",
     "text": [
      "10\n",
      "15\n",
      "20\n",
      "25\n",
      "30\n"
     ]
    }
   ],
   "source": [
    "for n in x:\n",
    "    print(n)"
   ]
  }
 ],
 "metadata": {
  "kernelspec": {
   "display_name": "Python 3",
   "language": "python",
   "name": "python3"
  },
  "language_info": {
   "codemirror_mode": {
    "name": "ipython",
    "version": 3
   },
   "file_extension": ".py",
   "mimetype": "text/x-python",
   "name": "python",
   "nbconvert_exporter": "python",
   "pygments_lexer": "ipython3",
   "version": "3.9.1"
  }
 },
 "nbformat": 4,
 "nbformat_minor": 5
}
