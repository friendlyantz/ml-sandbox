{
 "cells": [
  {
   "cell_type": "markdown",
   "id": "c8e89207-57b9-4ea0-847a-d09ae9af6964",
   "metadata": {},
   "source": [
    "## List is similar to Ruby 'Array'"
   ]
  },
  {
   "cell_type": "markdown",
   "id": "70b494ae-63b8-4f3f-a1d8-3becb134611a",
   "metadata": {},
   "source": [
    "# Slicing"
   ]
  },
  {
   "cell_type": "code",
   "execution_count": 9,
   "id": "a8a6b381-f63a-45ba-8421-e15f90724cbf",
   "metadata": {},
   "outputs": [],
   "source": [
    "s = [234,9943,84,35,653,99999]"
   ]
  },
  {
   "cell_type": "markdown",
   "id": "171a774a-8fe3-4c00-b1f4-ee4ff5695079",
   "metadata": {},
   "source": [
    "### pay attention to: slicing and Half open range concepts"
   ]
  },
  {
   "cell_type": "code",
   "execution_count": 4,
   "id": "99897eac-6ea0-4858-a51d-7a6a846a7b29",
   "metadata": {},
   "outputs": [
    {
     "data": {
      "text/plain": [
       "[234, 9943, 84]"
      ]
     },
     "execution_count": 4,
     "metadata": {},
     "output_type": "execute_result"
    }
   ],
   "source": [
    "s[0:3]"
   ]
  },
  {
   "cell_type": "code",
   "execution_count": 10,
   "id": "14a87534-6157-446a-a652-e02702eda4d9",
   "metadata": {},
   "outputs": [
    {
     "data": {
      "text/plain": [
       "[9943, 84, 35, 653]"
      ]
     },
     "execution_count": 10,
     "metadata": {},
     "output_type": "execute_result"
    }
   ],
   "source": [
    "s[1:-1]"
   ]
  },
  {
   "cell_type": "markdown",
   "id": "d7257102-a342-4e02-a291-b972edcf1a70",
   "metadata": {},
   "source": [
    "### inclusive"
   ]
  },
  {
   "cell_type": "code",
   "execution_count": 11,
   "id": "6b560fc2-b72f-4323-b4f4-b908fb1f02c0",
   "metadata": {},
   "outputs": [
    {
     "data": {
      "text/plain": [
       "[84, 35, 653, 99999]"
      ]
     },
     "execution_count": 11,
     "metadata": {},
     "output_type": "execute_result"
    }
   ],
   "source": [
    "s[2:]"
   ]
  },
  {
   "cell_type": "markdown",
   "id": "39d193c1-03ea-4b9d-9c5c-2c86b1a9bf6e",
   "metadata": {},
   "source": [
    "### however: exclusive"
   ]
  },
  {
   "cell_type": "code",
   "execution_count": 12,
   "id": "582a2aae-963b-4970-8c5a-688a37d5fd24",
   "metadata": {},
   "outputs": [
    {
     "data": {
      "text/plain": [
       "[234, 9943]"
      ]
     },
     "execution_count": 12,
     "metadata": {},
     "output_type": "execute_result"
    }
   ],
   "source": [
    "s[:2]"
   ]
  },
  {
   "cell_type": "code",
   "execution_count": 13,
   "id": "2f5111a7-8eb3-42f5-ae4c-d0bdc6a7d90a",
   "metadata": {},
   "outputs": [
    {
     "data": {
      "text/plain": [
       "[234, 9943, 84, 35, 653, 99999]"
      ]
     },
     "execution_count": 13,
     "metadata": {},
     "output_type": "execute_result"
    }
   ],
   "source": [
    "s[:]"
   ]
  },
  {
   "cell_type": "markdown",
   "id": "1e0017f2-1a68-4b70-9427-10e00a9d7198",
   "metadata": {},
   "source": [
    "### object referencing refresher"
   ]
  },
  {
   "cell_type": "code",
   "execution_count": 15,
   "id": "d72f2953-07bf-46b2-9e63-ae8203397a26",
   "metadata": {},
   "outputs": [],
   "source": [
    "r = s[:]"
   ]
  },
  {
   "cell_type": "code",
   "execution_count": 16,
   "id": "cbeecd0b-9fdc-49d9-b555-b0b359f57cf7",
   "metadata": {},
   "outputs": [
    {
     "data": {
      "text/plain": [
       "False"
      ]
     },
     "execution_count": 16,
     "metadata": {},
     "output_type": "execute_result"
    }
   ],
   "source": [
    "r is s"
   ]
  },
  {
   "cell_type": "code",
   "execution_count": 17,
   "id": "f50fa56c-57de-4e68-905a-27ed5c74c157",
   "metadata": {},
   "outputs": [
    {
     "data": {
      "text/plain": [
       "True"
      ]
     },
     "execution_count": 17,
     "metadata": {},
     "output_type": "execute_result"
    }
   ],
   "source": [
    "r == s"
   ]
  },
  {
   "cell_type": "markdown",
   "id": "0c3f8f97-f3f6-4b76-827f-24b438f53b3a",
   "metadata": {},
   "source": [
    "![list_slicing references](img/7.4list_slicing.png)"
   ]
  },
  {
   "cell_type": "markdown",
   "id": "bf15fe78-9079-41f6-82e9-484b31ceb8b1",
   "metadata": {},
   "source": [
    "___\n"
   ]
  },
  {
   "cell_type": "markdown",
   "id": "6e8b6280-7b84-4660-9078-794cd6f741f5",
   "metadata": {},
   "source": [
    "# List comprehensions"
   ]
  },
  {
   "cell_type": "code",
   "execution_count": 23,
   "id": "0eb42e87-b7f5-4a72-b95a-2ca127dffc04",
   "metadata": {},
   "outputs": [
    {
     "name": "stdout",
     "output_type": "stream",
     "text": [
      "['h', 'e', 'l', 'l', 'o']\n"
     ]
    }
   ],
   "source": [
    "my_list = [char for char in 'hello']\n",
    "print(my_list)"
   ]
  },
  {
   "cell_type": "code",
   "execution_count": 35,
   "id": "8455db4b-ec17-46f6-8b18-d373d90aa4f6",
   "metadata": {},
   "outputs": [
    {
     "name": "stdout",
     "output_type": "stream",
     "text": [
      "[0, 4, 16, 36, 64, 100, 144, 196, 256, 324, 400, 484, 576, 676, 784, 900, 1024, 1156, 1296, 1444, 1600, 1764, 1936, 2116, 2304, 2500, 2704, 2916, 3136, 3364, 3600, 3844, 4096, 4356, 4624, 4900, 5184, 5476, 5776, 6084, 6400, 6724, 7056, 7396, 7744, 8100, 8464, 8836, 9216, 9604]\n"
     ]
    }
   ],
   "source": [
    "my_list2 = [num**2 for num in range(0,100) if num%2 == 0]\n",
    "print(my_list2)"
   ]
  },
  {
   "cell_type": "markdown",
   "id": "c72eaf6b-e326-4e4e-8073-ba991feec648",
   "metadata": {},
   "source": [
    "# dictionary comprehensions"
   ]
  },
  {
   "cell_type": "code",
   "execution_count": 41,
   "id": "9fe6a560-e6c7-45df-a183-cc988da675cd",
   "metadata": {},
   "outputs": [
    {
     "name": "stdout",
     "output_type": "stream",
     "text": [
      "{0: 0, 1: 1, 2: 4, 3: 9, 4: 16, 5: 25, 6: 36, 7: 49, 8: 64, 9: 81}\n"
     ]
    }
   ],
   "source": [
    "my_dict = {num:num**2 for num in range(0,10)}\n",
    "print(my_dict)"
   ]
  }
 ],
 "metadata": {
  "kernelspec": {
   "display_name": "Python 3",
   "language": "python",
   "name": "python3"
  },
  "language_info": {
   "codemirror_mode": {
    "name": "ipython",
    "version": 3
   },
   "file_extension": ".py",
   "mimetype": "text/x-python",
   "name": "python",
   "nbconvert_exporter": "python",
   "pygments_lexer": "ipython3",
   "version": "3.9.1"
  }
 },
 "nbformat": 4,
 "nbformat_minor": 5
}
