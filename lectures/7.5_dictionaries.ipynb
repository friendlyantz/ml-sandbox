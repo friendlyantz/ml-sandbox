{
 "cells": [
  {
   "cell_type": "code",
   "execution_count": 5,
   "id": "61da0ecd-c34a-47e1-a507-fbcd6b662aa7",
   "metadata": {},
   "outputs": [],
   "source": [
    "names_and_ages = { 'Anton': 34 , 'Alice': 25, 'Bob': 67 }"
   ]
  },
  {
   "cell_type": "code",
   "execution_count": 10,
   "id": "538f843a-5c54-4160-b5e4-e2857048217f",
   "metadata": {},
   "outputs": [
    {
     "data": {
      "text/plain": [
       "{'Anton': 34, 'Alice': 25, 'Bob': 67}"
      ]
     },
     "execution_count": 10,
     "metadata": {},
     "output_type": "execute_result"
    }
   ],
   "source": [
    "names_and_ages"
   ]
  },
  {
   "cell_type": "code",
   "execution_count": 11,
   "id": "59343bc5-a4ef-4091-9ce8-501f9fdbb373",
   "metadata": {},
   "outputs": [],
   "source": [
    "names_and_nicknames_2 = dict(anton='Antonio' , alice=\"Alisca\", bob='the Painter')"
   ]
  },
  {
   "cell_type": "code",
   "execution_count": 12,
   "id": "57f91f5e-f510-4c1f-bf70-ed152876d90d",
   "metadata": {},
   "outputs": [
    {
     "data": {
      "text/plain": [
       "{'anton': 'Antonio', 'alice': 'Alisca', 'bob': 'the Painter'}"
      ]
     },
     "execution_count": 12,
     "metadata": {},
     "output_type": "execute_result"
    }
   ],
   "source": [
    "names_and_nicknames_2"
   ]
  },
  {
   "cell_type": "markdown",
   "id": "aca1a67d-759c-48e6-9062-a28ef4cb3354",
   "metadata": {},
   "source": [
    "# Copying"
   ]
  },
  {
   "cell_type": "code",
   "execution_count": 22,
   "id": "5c59e485-d780-4758-9b27-335b9cf1d1d2",
   "metadata": {},
   "outputs": [],
   "source": [
    "a = names_and_nicknames_2\n",
    "b = a.copy()"
   ]
  },
  {
   "cell_type": "code",
   "execution_count": 15,
   "id": "372e0cb9-20da-4ef4-bf01-f68399547e7e",
   "metadata": {},
   "outputs": [
    {
     "data": {
      "text/plain": [
       "{'anton': 'Antonio', 'alice': 'Alisca', 'bob': 'the Painter'}"
      ]
     },
     "execution_count": 15,
     "metadata": {},
     "output_type": "execute_result"
    }
   ],
   "source": [
    "b"
   ]
  },
  {
   "cell_type": "code",
   "execution_count": 24,
   "id": "42fdb3e0-d2eb-4bdf-9baf-9387dec1608a",
   "metadata": {},
   "outputs": [
    {
     "data": {
      "text/plain": [
       "{'anton': 'Antonio', 'alice': 'Alisca', 'bob': 'the Painter'}"
      ]
     },
     "execution_count": 24,
     "metadata": {},
     "output_type": "execute_result"
    }
   ],
   "source": [
    "c = dict(a)\n",
    "c"
   ]
  },
  {
   "cell_type": "markdown",
   "id": "20735f2c-47ce-40b8-bd5d-b2d830e38c2a",
   "metadata": {},
   "source": [
    "> Our preference as similar syntax to copying lists/etc"
   ]
  },
  {
   "cell_type": "markdown",
   "id": "a77efa0e-e998-456a-9a01-ecc315a17236",
   "metadata": {},
   "source": [
    "# Updating"
   ]
  },
  {
   "cell_type": "code",
   "execution_count": 27,
   "id": "e5c7a020-5f8d-4890-8ccd-de041395078e",
   "metadata": {},
   "outputs": [
    {
     "data": {
      "text/plain": [
       "{'Anton': 34,\n",
       " 'Alice': 25,\n",
       " 'Bob': 67,\n",
       " 'anton': 'Antonio',\n",
       " 'alice': 'Alisca',\n",
       " 'bob': 'the Painter'}"
      ]
     },
     "execution_count": 27,
     "metadata": {},
     "output_type": "execute_result"
    }
   ],
   "source": [
    "# dict.update() \n",
    "names_and_ages.update(b)\n",
    "names_and_ages"
   ]
  },
  {
   "cell_type": "markdown",
   "id": "afa7dfc7-e85e-4a9e-a23a-7b254617dc57",
   "metadata": {},
   "source": [
    "# Looing through keys and values"
   ]
  },
  {
   "cell_type": "code",
   "execution_count": 36,
   "id": "de877061-64c7-4205-a14e-1b57ad1b974a",
   "metadata": {},
   "outputs": [
    {
     "name": "stdout",
     "output_type": "stream",
     "text": [
      "anton => Antonio\n",
      "alice => Alisca\n",
      "bob => the Painter\n"
     ]
    }
   ],
   "source": [
    "for key in a:\n",
    "    print(f\"{key} => {a[key]}\")"
   ]
  },
  {
   "cell_type": "markdown",
   "id": "2aac8286-c4ea-4799-b55d-6561fb181748",
   "metadata": {},
   "source": [
    "### better version dict.items()"
   ]
  },
  {
   "cell_type": "code",
   "execution_count": 35,
   "id": "75127f04-23af-4242-9e62-b02d1c095f2b",
   "metadata": {},
   "outputs": [
    {
     "name": "stdout",
     "output_type": "stream",
     "text": [
      "anton => Antonio\n",
      "alice => Alisca\n",
      "bob => the Painter\n"
     ]
    }
   ],
   "source": [
    "for k, v in a.items():\n",
    "    print(f\"{k} => {v}\")"
   ]
  },
  {
   "cell_type": "markdown",
   "id": "bb2a201f-4e89-4014-aa40-169e933d03de",
   "metadata": {},
   "source": [
    "### through values"
   ]
  },
  {
   "cell_type": "code",
   "execution_count": 32,
   "id": "2bcc221c-088b-46d2-83ae-47277de704f3",
   "metadata": {},
   "outputs": [
    {
     "name": "stdout",
     "output_type": "stream",
     "text": [
      "Antonio\n",
      "Alisca\n",
      "the Painter\n"
     ]
    }
   ],
   "source": [
    "for value in a.values():\n",
    "    print(value)"
   ]
  },
  {
   "cell_type": "markdown",
   "id": "071b37f4-251d-492d-8175-b869f9c2f480",
   "metadata": {},
   "source": [
    "### through keys"
   ]
  },
  {
   "cell_type": "code",
   "execution_count": 33,
   "id": "d1dcfd71-1dce-43ad-91fe-f0e67758c77d",
   "metadata": {},
   "outputs": [
    {
     "name": "stdout",
     "output_type": "stream",
     "text": [
      "anton\n",
      "alice\n",
      "bob\n"
     ]
    }
   ],
   "source": [
    "for key in a.keys():\n",
    "    print(key)"
   ]
  },
  {
   "cell_type": "code",
   "execution_count": 47,
   "id": "0454e5d1-7556-4fbc-9a63-6b9b0a7a4073",
   "metadata": {},
   "outputs": [
    {
     "data": {
      "text/plain": [
       "False"
      ]
     },
     "execution_count": 47,
     "metadata": {},
     "output_type": "execute_result"
    }
   ],
   "source": [
    "'Anton' in names_and_nicknames_2"
   ]
  },
  {
   "cell_type": "code",
   "execution_count": 49,
   "id": "2c8e1abe-90ac-433e-9427-5394ac7f8c25",
   "metadata": {},
   "outputs": [
    {
     "data": {
      "text/plain": [
       "True"
      ]
     },
     "execution_count": 49,
     "metadata": {},
     "output_type": "execute_result"
    }
   ],
   "source": [
    "'Anton' in names_and_ages"
   ]
  },
  {
   "cell_type": "markdown",
   "id": "ece59d7c-6da1-41de-ad30-a8f17e69739d",
   "metadata": {},
   "source": [
    "# more human readable printing\n",
    "\n",
    "> note, you need to assign custom name to imported func as pp"
   ]
  },
  {
   "cell_type": "code",
   "execution_count": 50,
   "id": "3159ddd8-ac27-4a81-988d-a4af8275363f",
   "metadata": {},
   "outputs": [
    {
     "data": {
      "text/plain": [
       "{'anton': 'Antonio', 'alice': 'Alisca', 'bob': 'the Painter'}"
      ]
     },
     "execution_count": 50,
     "metadata": {},
     "output_type": "execute_result"
    }
   ],
   "source": [
    "c"
   ]
  },
  {
   "cell_type": "code",
   "execution_count": 53,
   "id": "a084a3cf-4840-49f4-a955-3dcf6dfcca16",
   "metadata": {},
   "outputs": [],
   "source": [
    "from pprint import pprint as pp"
   ]
  },
  {
   "cell_type": "code",
   "execution_count": 54,
   "id": "3079a488-5f65-48d3-8cea-cf0466c6e4ca",
   "metadata": {},
   "outputs": [
    {
     "name": "stdout",
     "output_type": "stream",
     "text": [
      "{'alice': 'Alisca', 'anton': 'Antonio', 'bob': 'the Painter'}\n"
     ]
    }
   ],
   "source": [
    "pp(c)"
   ]
  },
  {
   "cell_type": "code",
   "execution_count": null,
   "id": "6c8e31e9-8e43-4537-a5cf-208b86da4b78",
   "metadata": {},
   "outputs": [],
   "source": []
  }
 ],
 "metadata": {
  "kernelspec": {
   "display_name": "Python 3",
   "language": "python",
   "name": "python3"
  },
  "language_info": {
   "codemirror_mode": {
    "name": "ipython",
    "version": 3
   },
   "file_extension": ".py",
   "mimetype": "text/x-python",
   "name": "python",
   "nbconvert_exporter": "python",
   "pygments_lexer": "ipython3",
   "version": "3.9.1"
  }
 },
 "nbformat": 4,
 "nbformat_minor": 5
}
