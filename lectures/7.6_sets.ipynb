{
 "cells": [
  {
   "cell_type": "markdown",
   "id": "43ac9004-4256-4bde-bf28-feafb31baf46",
   "metadata": {},
   "source": [
    "## uses {} as dict. no key, unique values - no dublicates, which is it mainly used"
   ]
  },
  {
   "cell_type": "code",
   "execution_count": 10,
   "id": "c3b5ac69-6efc-45a3-a766-38fa98bf5775",
   "metadata": {},
   "outputs": [
    {
     "data": {
      "text/plain": [
       "{4, 32, 434, 4345, 345612}"
      ]
     },
     "execution_count": 10,
     "metadata": {},
     "output_type": "execute_result"
    }
   ],
   "source": [
    "p = {4, 4, 434, 4345 ,434 ,345612,32}\n",
    "p"
   ]
  },
  {
   "cell_type": "code",
   "execution_count": 2,
   "id": "8120ea46-c420-469e-8e3f-392a9f1df08b",
   "metadata": {},
   "outputs": [
    {
     "data": {
      "text/plain": [
       "set"
      ]
     },
     "execution_count": 2,
     "metadata": {},
     "output_type": "execute_result"
    }
   ],
   "source": [
    "type(p)"
   ]
  },
  {
   "cell_type": "code",
   "execution_count": 11,
   "id": "fe8f7386-abfb-4d55-8891-9b38db7184fe",
   "metadata": {},
   "outputs": [],
   "source": [
    "d = {}\n",
    "e = set()"
   ]
  },
  {
   "cell_type": "code",
   "execution_count": 15,
   "id": "350d6696-6860-4420-b9c8-b0b8c2ef8854",
   "metadata": {},
   "outputs": [
    {
     "data": {
      "text/plain": [
       "dict"
      ]
     },
     "execution_count": 15,
     "metadata": {},
     "output_type": "execute_result"
    }
   ],
   "source": [
    "type(d)"
   ]
  },
  {
   "cell_type": "code",
   "execution_count": 16,
   "id": "34bc04fb-86e3-4560-ac2e-fc54a344accf",
   "metadata": {},
   "outputs": [
    {
     "data": {
      "text/plain": [
       "set"
      ]
     },
     "execution_count": 16,
     "metadata": {},
     "output_type": "execute_result"
    }
   ],
   "source": [
    "type(e)"
   ]
  },
  {
   "cell_type": "code",
   "execution_count": 17,
   "id": "995c8a00-c084-40b6-89d7-380b54e25172",
   "metadata": {},
   "outputs": [
    {
     "data": {
      "text/plain": [
       "True"
      ]
     },
     "execution_count": 17,
     "metadata": {},
     "output_type": "execute_result"
    }
   ],
   "source": [
    "4 in p"
   ]
  },
  {
   "cell_type": "code",
   "execution_count": 18,
   "id": "ee75b643-d819-4593-aead-ebe3b073877c",
   "metadata": {},
   "outputs": [
    {
     "data": {
      "text/plain": [
       "False"
      ]
     },
     "execution_count": 18,
     "metadata": {},
     "output_type": "execute_result"
    }
   ],
   "source": [
    "3 in p"
   ]
  },
  {
   "cell_type": "code",
   "execution_count": 29,
   "id": "5b7ec1a1-edcd-48e5-a77b-414fdc21e240",
   "metadata": {},
   "outputs": [],
   "source": [
    "e.add(84)"
   ]
  },
  {
   "cell_type": "code",
   "execution_count": 30,
   "id": "cbb186a9-d1c6-4815-825e-e722c2491818",
   "metadata": {},
   "outputs": [
    {
     "data": {
      "text/plain": [
       "True"
      ]
     },
     "execution_count": 30,
     "metadata": {},
     "output_type": "execute_result"
    }
   ],
   "source": [
    "84 in e"
   ]
  },
  {
   "cell_type": "code",
   "execution_count": 31,
   "id": "b9b8972b-db79-4ced-a7a6-0a8f9a0849d4",
   "metadata": {},
   "outputs": [
    {
     "data": {
      "text/plain": [
       "{84}"
      ]
     },
     "execution_count": 31,
     "metadata": {},
     "output_type": "execute_result"
    }
   ],
   "source": [
    "e"
   ]
  },
  {
   "cell_type": "code",
   "execution_count": 32,
   "id": "31aeaeee-3923-4fd6-bfd2-67ce54d19a71",
   "metadata": {},
   "outputs": [
    {
     "ename": "KeyError",
     "evalue": "98",
     "output_type": "error",
     "traceback": [
      "\u001b[0;31m---------------------------------------------------------------------------\u001b[0m",
      "\u001b[0;31mKeyError\u001b[0m                                  Traceback (most recent call last)",
      "\u001b[0;32m<ipython-input-32-76d2051d8805>\u001b[0m in \u001b[0;36m<module>\u001b[0;34m\u001b[0m\n\u001b[0;32m----> 1\u001b[0;31m \u001b[0mp\u001b[0m\u001b[0;34m.\u001b[0m\u001b[0mremove\u001b[0m\u001b[0;34m(\u001b[0m\u001b[0;36m98\u001b[0m\u001b[0;34m)\u001b[0m\u001b[0;34m\u001b[0m\u001b[0;34m\u001b[0m\u001b[0m\n\u001b[0m",
      "\u001b[0;31mKeyError\u001b[0m: 98"
     ]
    }
   ],
   "source": [
    "p.remove(98)"
   ]
  },
  {
   "cell_type": "code",
   "execution_count": 23,
   "id": "303e0509-bfb8-409a-a0d5-24b0e1c5acea",
   "metadata": {},
   "outputs": [],
   "source": [
    "p.discard(98)"
   ]
  },
  {
   "cell_type": "markdown",
   "id": "f6625ccf-0307-4a9c-b84e-f5703ec5e977",
   "metadata": {},
   "source": [
    "# copying"
   ]
  },
  {
   "cell_type": "code",
   "execution_count": 34,
   "id": "3b4e8eb3-d101-4bb7-8d52-87d82e7a2b57",
   "metadata": {},
   "outputs": [
    {
     "data": {
      "text/plain": [
       "{4, 32, 84, 434, 4345, 345612}"
      ]
     },
     "execution_count": 34,
     "metadata": {},
     "output_type": "execute_result"
    }
   ],
   "source": [
    "j = p.copy()\n",
    "j"
   ]
  },
  {
   "cell_type": "markdown",
   "id": "6adf6e61-5849-4c24-bdc4-a649b154075c",
   "metadata": {},
   "source": [
    "> preference to use `set` constructor like before"
   ]
  },
  {
   "cell_type": "code",
   "execution_count": 36,
   "id": "31257e31-6487-4726-aa7a-295f3dd55eeb",
   "metadata": {},
   "outputs": [
    {
     "data": {
      "text/plain": [
       "{4, 32, 84, 434, 4345, 345612}"
      ]
     },
     "execution_count": 36,
     "metadata": {},
     "output_type": "execute_result"
    }
   ],
   "source": [
    "copy = set(p)\n",
    "copy"
   ]
  },
  {
   "cell_type": "markdown",
   "id": "c1ab1a87-2845-4266-a092-fbba9127f60c",
   "metadata": {},
   "source": [
    "# Set Algebra\n",
    "\n",
    "![set algebra](img/7.6_set_algebra.png)"
   ]
  },
  {
   "cell_type": "code",
   "execution_count": 39,
   "id": "a70098d1-6c42-4e8e-980b-16999c17421d",
   "metadata": {},
   "outputs": [],
   "source": [
    "blue_eyes = {'Anton', 'Thomas', 'Jane', 'Anya'}\n",
    "blond_hair = {'Anton', 'Jake', 'Anya', 'Leo'}\n",
    "russian = {'Anton', 'Anya', 'Leo'}\n",
    "german = {'Thomas', 'Isolda'}\n",
    "english = {'Jake', 'Jane', 'Mike', 'Jenny', 'Bob'}\n",
    "booklovers = {'Anton', 'Anya', 'Jane', 'Leo', 'Ting', 'Miko'}"
   ]
  },
  {
   "cell_type": "code",
   "execution_count": 40,
   "id": "6db0df8a-973d-4094-a0b7-9b234154fee6",
   "metadata": {},
   "outputs": [
    {
     "data": {
      "text/plain": [
       "{'Anton', 'Anya', 'Jake', 'Jane', 'Leo', 'Thomas'}"
      ]
     },
     "execution_count": 40,
     "metadata": {},
     "output_type": "execute_result"
    }
   ],
   "source": [
    "blue_eyes.union(blond_hair)"
   ]
  },
  {
   "cell_type": "code",
   "execution_count": 41,
   "id": "67f798fe-5637-40ee-a63a-b70dcc3076b2",
   "metadata": {},
   "outputs": [
    {
     "data": {
      "text/plain": [
       "{'Anton', 'Anya'}"
      ]
     },
     "execution_count": 41,
     "metadata": {},
     "output_type": "execute_result"
    }
   ],
   "source": [
    "blue_eyes.intersection(blond_hair)"
   ]
  },
  {
   "cell_type": "markdown",
   "id": "b88b0744-d11e-4f18-b76e-ca8128d22e45",
   "metadata": {},
   "source": [
    "# difference - both params"
   ]
  },
  {
   "cell_type": "code",
   "execution_count": 42,
   "id": "a4eabbcc-665a-4a87-a7c0-bf811dfd0ac2",
   "metadata": {},
   "outputs": [
    {
     "data": {
      "text/plain": [
       "{'Jane', 'Thomas'}"
      ]
     },
     "execution_count": 42,
     "metadata": {},
     "output_type": "execute_result"
    }
   ],
   "source": [
    "blue_eyes.difference(blond_hair)"
   ]
  },
  {
   "cell_type": "markdown",
   "id": "334b634c-7d61-40b9-8a13-25637d34cb69",
   "metadata": {},
   "source": [
    "### however - if we want 1 of the params but NOT both"
   ]
  },
  {
   "cell_type": "code",
   "execution_count": 44,
   "id": "5cde9ae1-5bbb-42d3-8c8d-2794a91ff9ea",
   "metadata": {},
   "outputs": [
    {
     "data": {
      "text/plain": [
       "{'Jake', 'Jane', 'Leo', 'Thomas'}"
      ]
     },
     "execution_count": 44,
     "metadata": {},
     "output_type": "execute_result"
    }
   ],
   "source": [
    "blue_eyes.symmetric_difference(blond_hair)"
   ]
  },
  {
   "cell_type": "markdown",
   "id": "cfa02142-5387-4137-9f73-cf650bfd5a4b",
   "metadata": {},
   "source": [
    "# Subset / Superset"
   ]
  },
  {
   "cell_type": "code",
   "execution_count": 45,
   "id": "9c56aa33-6a0f-4ff2-8c4b-c423c817fc4c",
   "metadata": {},
   "outputs": [
    {
     "data": {
      "text/plain": [
       "True"
      ]
     },
     "execution_count": 45,
     "metadata": {},
     "output_type": "execute_result"
    }
   ],
   "source": [
    "russian.issubset(blond_hair)"
   ]
  },
  {
   "cell_type": "code",
   "execution_count": 46,
   "id": "62507252-b7f2-4ad1-b4e0-42887144b863",
   "metadata": {},
   "outputs": [
    {
     "data": {
      "text/plain": [
       "True"
      ]
     },
     "execution_count": 46,
     "metadata": {},
     "output_type": "execute_result"
    }
   ],
   "source": [
    "booklovers.issuperset(russian)"
   ]
  },
  {
   "cell_type": "markdown",
   "id": "b99e25a5-d966-4d46-868b-0074be09a7f9",
   "metadata": {},
   "source": [
    "# No members in common"
   ]
  },
  {
   "cell_type": "code",
   "execution_count": 49,
   "id": "4eef3e5f-d6fd-468c-8afe-d7d56c84d475",
   "metadata": {},
   "outputs": [
    {
     "data": {
      "text/plain": [
       "True"
      ]
     },
     "execution_count": 49,
     "metadata": {},
     "output_type": "execute_result"
    }
   ],
   "source": [
    "russian.isdisjoint(english)"
   ]
  }
 ],
 "metadata": {
  "kernelspec": {
   "display_name": "Python 3",
   "language": "python",
   "name": "python3"
  },
  "language_info": {
   "codemirror_mode": {
    "name": "ipython",
    "version": 3
   },
   "file_extension": ".py",
   "mimetype": "text/x-python",
   "name": "python",
   "nbconvert_exporter": "python",
   "pygments_lexer": "ipython3",
   "version": "3.9.1"
  }
 },
 "nbformat": 4,
 "nbformat_minor": 5
}
