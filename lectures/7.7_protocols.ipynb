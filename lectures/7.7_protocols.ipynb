{
 "cells": [
  {
   "cell_type": "markdown",
   "id": "5d8653c9-4b60-4c4e-bacb-78ff87a16a21",
   "metadata": {},
   "source": [
    "![protocols](img/7.7_protocols.png)"
   ]
  },
  {
   "cell_type": "code",
   "execution_count": null,
   "id": "ee35bdab-3475-45a5-b3f9-b420c0dd3b52",
   "metadata": {},
   "outputs": [],
   "source": []
  }
 ],
 "metadata": {
  "kernelspec": {
   "display_name": "Python 3",
   "language": "python",
   "name": "python3"
  },
  "language_info": {
   "codemirror_mode": {
    "name": "ipython",
    "version": 3
   },
   "file_extension": ".py",
   "mimetype": "text/x-python",
   "name": "python",
   "nbconvert_exporter": "python",
   "pygments_lexer": "ipython3",
   "version": "3.9.1"
  }
 },
 "nbformat": 4,
 "nbformat_minor": 5
}
