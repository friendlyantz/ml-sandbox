{
 "cells": [
  {
   "cell_type": "markdown",
   "id": "aeeb08d4-92e7-4613-bf45-36b9c2126dd6",
   "metadata": {},
   "source": [
    "# Fundamental Data Types\n",
    "- int\n",
    "- float\n",
    "- bool\n",
    "- str\n",
    "- list\n",
    "- tuple\n",
    "- set\n",
    "- dict"
   ]
  }
 ],
 "metadata": {
  "kernelspec": {
   "display_name": "Python 3",
   "language": "python",
   "name": "python3"
  },
  "language_info": {
   "codemirror_mode": {
    "name": "ipython",
    "version": 3
   },
   "file_extension": ".py",
   "mimetype": "text/x-python",
   "name": "python",
   "nbconvert_exporter": "python",
   "pygments_lexer": "ipython3",
   "version": "3.9.1"
  }
 },
 "nbformat": 4,
 "nbformat_minor": 5
}
